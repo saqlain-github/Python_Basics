{
 "cells": [
  {
   "cell_type": "markdown",
   "metadata": {},
   "source": [
    "CPU Architecture:\n",
    "\n",
    "    - Input -> Processing -> output  \n",
    "    - Processing UNIT -  ALU-CU"
   ]
  },
  {
   "cell_type": "markdown",
   "metadata": {},
   "source": [
    "##### User input and output"
   ]
  },
  {
   "cell_type": "code",
   "execution_count": 18,
   "metadata": {},
   "outputs": [
    {
     "name": "stdout",
     "output_type": "stream",
     "text": [
      "<class 'int'>\n",
      "3\n"
     ]
    }
   ],
   "source": [
    "x = int(float(input(\"Enter some value\")))\n",
    "print(type(x))\n",
    "print(x)\n",
    "\n",
    "# input and output are from console\n",
    "# output - > print()\n",
    "# print function -> print()\n",
    "\n",
    "# input -> str\n",
    "# str -> float() -> float\n",
    "# float -> int() -> int"
   ]
  },
  {
   "cell_type": "markdown",
   "metadata": {},
   "source": [
    "##### Operations"
   ]
  },
  {
   "cell_type": "markdown",
   "metadata": {},
   "source": [
    "Operators\n",
    "1. Binary -> two operands and one operator\n",
    "2. Uniary -> one operand and one operator"
   ]
  },
  {
   "cell_type": "code",
   "execution_count": 83,
   "metadata": {},
   "outputs": [
    {
     "name": "stdout",
     "output_type": "stream",
     "text": [
      "15\n",
      "5\n",
      "50\n",
      "2.0\n",
      "2\n",
      "0\n",
      "100000\n"
     ]
    }
   ],
   "source": [
    "# Arthematic\n",
    "\n",
    "a = 10\n",
    "b = 5\n",
    "\n",
    "print(a+b)\n",
    "print(a-b)\n",
    "print(a*b)\n",
    "print(a/b)\n",
    "print(a//b)\n",
    "print(a%b)\n",
    "print(a**b)"
   ]
  },
  {
   "cell_type": "code",
   "execution_count": 84,
   "metadata": {},
   "outputs": [
    {
     "data": {
      "text/plain": [
       "22"
      ]
     },
     "execution_count": 84,
     "metadata": {},
     "output_type": "execute_result"
    }
   ],
   "source": [
    "## conditonal operators\n",
    "\n",
    "'''\n",
    ">\n",
    "<\n",
    "==\n",
    "!=\n",
    ">=\n",
    "<=\n",
    "is \n",
    "not is\n",
    "'''\n"
   ]
  },
  {
   "cell_type": "markdown",
   "metadata": {},
   "source": [
    "##### Datatypes"
   ]
  },
  {
   "cell_type": "markdown",
   "metadata": {},
   "source": [
    "syntax :\n",
    " a basic structure to write a instruction or block\n",
    "\n",
    " 1. declare a  variable:\n",
    "        <variable_name> =  <value/constant>\n",
    "       \n",
    "       variable -> that changes\n",
    "       constant -> that deosnt change\n",
    "\n",
    "        LHS is always a value to be store\n",
    "        RHS is a always a value\n",
    "        Value cannot be on the RHS"
   ]
  },
  {
   "cell_type": "markdown",
   "metadata": {},
   "source": [
    "- bool"
   ]
  },
  {
   "cell_type": "code",
   "execution_count": 27,
   "metadata": {},
   "outputs": [
    {
     "name": "stdout",
     "output_type": "stream",
     "text": [
      "<class 'bool'>\n"
     ]
    }
   ],
   "source": [
    "boolean =  True\n",
    "print(type(boolean))"
   ]
  },
  {
   "cell_type": "markdown",
   "metadata": {},
   "source": [
    "- int"
   ]
  },
  {
   "cell_type": "code",
   "execution_count": 33,
   "metadata": {},
   "outputs": [
    {
     "name": "stdout",
     "output_type": "stream",
     "text": [
      "<class 'int'>\n",
      "-10\n"
     ]
    }
   ],
   "source": [
    "# -inf to inf\n",
    "integer = int(-10)\n",
    "print(type(integer))\n",
    "print(integer)"
   ]
  },
  {
   "cell_type": "markdown",
   "metadata": {},
   "source": [
    "- float"
   ]
  },
  {
   "cell_type": "code",
   "execution_count": 34,
   "metadata": {},
   "outputs": [
    {
     "name": "stdout",
     "output_type": "stream",
     "text": [
      "<class 'float'>\n",
      "-10.0\n"
     ]
    }
   ],
   "source": [
    "# -inf to inf\n",
    "integer = float(-10)\n",
    "print(type(integer))\n",
    "print(integer)"
   ]
  },
  {
   "cell_type": "markdown",
   "metadata": {},
   "source": [
    "- string"
   ]
  },
  {
   "cell_type": "code",
   "execution_count": 53,
   "metadata": {},
   "outputs": [
    {
     "data": {
      "text/plain": [
       "'hsa'"
      ]
     },
     "execution_count": 53,
     "metadata": {},
     "output_type": "execute_result"
    }
   ],
   "source": [
    "# what is string \n",
    "# For collection of works \"AANc is right\"\n",
    "# A string is a collection of characters \"a\", \"b\",\"c\"\n",
    "# string is a character array \n",
    "# array -> is collection of same datatypes  -> [0,1,2,3 .... n-1]\n",
    "# array length -> 5 [0,1,2,3,4] array[5]-> index out of bound/range\n",
    "\n",
    "# declare \n",
    "'''\n",
    " int c # variable declaration\n",
    " ..\n",
    " c =10 # variable defination/assignment\n",
    "\n",
    "'''\n",
    "string_empty = \"\" # both declareda and defined empty string\n",
    "type(string_empty)\n",
    "\n",
    "# concatenate\n",
    "#print(\"saqlian\"+\"ahmed\")\n",
    "string_some = \"zaid\"\n",
    "string_name = \"hussain\"\n",
    "#print(string_some+string_name)\n",
    "\n",
    "string2 = \"hello this is my first python class\"\n",
    "# l = list(string)\n",
    "#string2 = string2.split(\" \")\n",
    "string2\n",
    "#print(id(string2))\n",
    "string2 = \"helll\"\n",
    "#print(id(string2))\n",
    "\n",
    "string3 = \"zaid hussain\"\n",
    "string3[5:10:-2]\n",
    "\n"
   ]
  },
  {
   "cell_type": "markdown",
   "metadata": {},
   "source": [
    "- complex"
   ]
  },
  {
   "cell_type": "code",
   "execution_count": 71,
   "metadata": {},
   "outputs": [
    {
     "name": "stdout",
     "output_type": "stream",
     "text": [
      "<class 'complex'>\n"
     ]
    },
    {
     "data": {
      "text/plain": [
       "4.0"
      ]
     },
     "execution_count": 71,
     "metadata": {},
     "output_type": "execute_result"
    }
   ],
   "source": [
    "complexes = 3+4j\n",
    "print(type(complexes))\n",
    "complexes.real\n",
    "complexes.imag"
   ]
  },
  {
   "cell_type": "markdown",
   "metadata": {},
   "source": [
    "- list"
   ]
  },
  {
   "cell_type": "code",
   "execution_count": 35,
   "metadata": {},
   "outputs": [
    {
     "data": {
      "text/plain": [
       "[123, 'zaid', 'CSE', 'hussain', 3.44, '342', 'hello']"
      ]
     },
     "execution_count": 35,
     "metadata": {},
     "output_type": "execute_result"
    }
   ],
   "source": [
    "# list is similar to array but it is hetrog'\n",
    "# \n",
    "# how emoty list is declared\n",
    "list1 = []\n",
    "list2 = [123,\"zaid\",\"hussain\",3.44]\n",
    "\n",
    "# concatination\n",
    "#list1 = list1 + list2\n",
    "\n",
    "\n",
    "#number of elements in a list\n",
    "len(list2)\n",
    "\n",
    "#accessing individual elements\n",
    "list2[1]\n",
    "\n",
    "# list slicing\n",
    "list2[3:1:-1]\n",
    "list2[-4:-2]\n",
    "\n",
    "#mutli dim list\n",
    "list_dim = [[123,\"hello\"],\n",
    "            [\"234\", \"hussain\"]]\n",
    "list_dim[1][1]\n",
    "\n",
    "list2.append(\"night\")\n",
    "list2.extend([\"342\",\"hello\",\"night\"])\n",
    "list2.insert(2,\"CSE\")\n",
    "\n",
    "# reverse a list\n",
    "list2[::-1]\n",
    "list2.reverse()\n",
    "list2.reverse()\n",
    "\n",
    "list2.remove(\"night\")\n",
    "list2.pop()\n",
    "list2"
   ]
  },
  {
   "cell_type": "code",
   "execution_count": 40,
   "metadata": {},
   "outputs": [
    {
     "name": "stdout",
     "output_type": "stream",
     "text": [
      "[1, 9, 25, 49, 81] [1, 9, 25, 49, 81]\n"
     ]
    }
   ],
   "source": [
    "#list comprehensions\n",
    "\n",
    "list3 = [i**2 for i in range(10) if i % 2 == 1 ]\n",
    "list3\n",
    "\n",
    "list4 = []\n",
    "for i in range(10):\n",
    "    if i % 2 == 1:\n",
    "        list4.append(i**2)\n",
    "\n",
    "print(list3,list4)\n"
   ]
  },
  {
   "cell_type": "markdown",
   "metadata": {},
   "source": [
    "- set"
   ]
  },
  {
   "cell_type": "code",
   "execution_count": 22,
   "metadata": {},
   "outputs": [
    {
     "name": "stdout",
     "output_type": "stream",
     "text": [
      "{'inter', 'mpc', 'cvr', 'cse'}\n",
      "no\n"
     ]
    }
   ],
   "source": [
    "set1 = set()\n",
    "set1.add(\"a\")\n",
    "set1.add('b')\n",
    "\n",
    "\n",
    "lists = [1,2,3,4,5,6,6,7,7,8,]\n",
    "set2 = set(lists)\n",
    "set3 =  {\"zaid\", \"hussain\", \"zaid\",\"mpc\",\"inter\"}\n",
    "set4 = {\"zaid\",\"hussain\", \"cvr\",\"cse\"}\n",
    "#setn = set3.union(set4)  # | or .union()\n",
    "#setn = set3.intersection(set4) # & or .intersection()\n",
    "#setn = set4.difference(set3) # -  or .differnce()\n",
    "setn = set4 ^ set3\n",
    "#setn.clear()\n",
    "print(setn)\n",
    "\n",
    "if set3 == set4 :\n",
    "    print(\"yes\")\n",
    "else:\n",
    "    print(\"no\")"
   ]
  },
  {
   "cell_type": "markdown",
   "metadata": {},
   "source": [
    "- tuple"
   ]
  },
  {
   "cell_type": "code",
   "execution_count": 45,
   "metadata": {},
   "outputs": [
    {
     "name": "stdout",
     "output_type": "stream",
     "text": [
      "('zaid', 'hussain', 'amiunu', 'zaid', 'zainab', 'cmz')\n",
      "('cmz', 'zainab', 'zaid', 'amiunu')\n"
     ]
    },
    {
     "data": {
      "text/plain": [
       "6"
      ]
     },
     "execution_count": 45,
     "metadata": {},
     "output_type": "execute_result"
    }
   ],
   "source": [
    "list1 = [\"zaid\",\"hussain\", \"amiunu\"]\n",
    "list1[len(list1)-1] = \"zainab\"\n",
    "\n",
    "list1\n",
    "tuple_list = tuple(list1)\n",
    "\n",
    "tuple1 = (\"zaid\",\"hussain\", \"amiunu\")\n",
    "#tuple1[len(list1)-1] = \"zainab\"\n",
    "tuple2 = (\"zaid\",\"zainab\", \"cmz\")\n",
    "\n",
    "tuplen = tuple1 + tuple2\n",
    "\n",
    "## nested tuple\n",
    "#tuplen = (tuple1,tuple2, tuple1)\n",
    "\n",
    "print(tuplen)\n",
    "print(tuplen[6:1:-1])\n",
    "#del tuplen\n",
    "\n",
    "len(tuplen)\n",
    "\n",
    "\n",
    "# traversing\n",
    "# for i in tuple1:\n",
    "#     print(i, end = \" \")\n",
    "\n",
    "# for i in range(0,len(tuple1)):\n",
    "#     print(i,tuple1[i])\n",
    "    \n",
    "# for index, item in enumerate(tuple1):\n",
    "#     print(index, item)"
   ]
  },
  {
   "cell_type": "markdown",
   "metadata": {},
   "source": [
    "- dictionary"
   ]
  },
  {
   "cell_type": "code",
   "execution_count": 86,
   "metadata": {},
   "outputs": [
    {
     "data": {
      "text/plain": [
       "{1: 'zainab',\n",
       " 2: 'hussain',\n",
       " 'new': 'rasheeed',\n",
       " 'dictionary': {1: 100, 2: 200, 3: 300, 'inner': {1: 234, 2: 345}},\n",
       " 'list': [1, 2, 34, 5, 5, 6],\n",
       " 'sets': {1, 2, 3, 4, 5},\n",
       " 'tuples': (1, 4, 7, 9, 0)}"
      ]
     },
     "execution_count": 86,
     "metadata": {},
     "output_type": "execute_result"
    }
   ],
   "source": [
    "dict1 = {}\n",
    "dict1[7] = 100\n",
    "dict1[6] = 100\n",
    "dict1[3] = 100\n",
    "\n",
    "#print(dict1)\n",
    "dict1[3] = 600\n",
    "dict1\n",
    "\n",
    "dict2 = {\n",
    "    1 : \"zaid\",\n",
    "    2 : \"hussain\",\n",
    "    \"new\" : 456,\n",
    "    \"new\" : \"rasheeed\" \n",
    "}\n",
    "\n",
    "# concatination of dicts\n",
    "dict2.update(dict1)\n",
    "\n",
    "\n",
    "dict2 = {\n",
    "    1 : \"zaid\",\n",
    "    2 : \"hussain\",\n",
    "    \"new\" : 456,\n",
    "    \"new\" : \"rasheeed\" ,\n",
    "    \"dictionary\" : {\n",
    "        1 : 100,\n",
    "        2: 200,\n",
    "        3 : 300,\n",
    "        \"inner\" : {\n",
    "            1: 234,\n",
    "            2: 345\n",
    "        }\n",
    "    },\n",
    "    \"list\" : [1,2,34,5,5,6],\n",
    "    \"sets\" : {1,2,3,3,4,5},\n",
    "    \"tuples\" : (1,4,7,9,0)\n",
    "}\n",
    "\n",
    "dictn = dict2.copy()\n",
    "dictn[1] = \"zainab\"\n",
    "dictn"
   ]
  },
  {
   "cell_type": "code",
   "execution_count": 97,
   "metadata": {},
   "outputs": [
    {
     "data": {
      "text/plain": [
       "[1, 2, 'new', 'dictionary', 'list', 'sets', 'tuples']"
      ]
     },
     "execution_count": 97,
     "metadata": {},
     "output_type": "execute_result"
    }
   ],
   "source": [
    "#traversing a dictionary\n",
    "\n",
    "keys = dict2.keys()\n",
    "list(keys)"
   ]
  },
  {
   "cell_type": "code",
   "execution_count": 2,
   "metadata": {},
   "outputs": [],
   "source": [
    "list1 = [1,2,3,4,5,6,7]\n",
    "list2 = [1000,200,300,400,500,600]\n",
    "\n",
    "dictn = list(zip(list1,list2))\n",
    "dictn\n",
    "\n",
    "list4 = [\"1\",\"2\",\"3\",\"4\",\"5\",\"6\",\"7\"]\n",
    "#listn = list(map(int,list4))\n",
    "#listn = [int(i) for i in list4]\n",
    "\n",
    "def fun(variable):\n",
    "    letters = ['a', 'e', 'i', 'o', 'u']\n",
    "    if (variable in letters):\n",
    "        return True\n",
    "    else:\n",
    "        return False\n",
    "  \n",
    "  \n",
    "# sequence\n",
    "sequence = ['g', 'e', 'e', 'j', 'k', 's', 'p', 'r']\n",
    "  \n",
    "# using filter function\n",
    "filtered = filter(fun, sequence)\n",
    "  \n",
    "print('The filtered letters are:')\n",
    "for s in filtered:\n",
    "    print(s)\n"
   ]
  },
  {
   "cell_type": "code",
   "execution_count": 1,
   "metadata": {},
   "outputs": [
    {
     "name": "stdout",
     "output_type": "stream",
     "text": [
      "15\n"
     ]
    }
   ],
   "source": [
    "\n",
    "xyz = lambda arr : sum(arr)\n",
    "print(xyz([1,2,3,4,5]))"
   ]
  },
  {
   "cell_type": "markdown",
   "metadata": {},
   "source": []
  },
  {
   "cell_type": "markdown",
   "metadata": {},
   "source": [
    "##### Conditional Statements"
   ]
  },
  {
   "cell_type": "markdown",
   "metadata": {},
   "source": [
    "- if and else"
   ]
  },
  {
   "cell_type": "code",
   "execution_count": 101,
   "metadata": {},
   "outputs": [
    {
     "name": "stdout",
     "output_type": "stream",
     "text": [
      "if exucted\n"
     ]
    }
   ],
   "source": [
    "'''\n",
    "syntax -> if <condition1>:\n",
    "            block\n",
    "          elif <condition2>:\n",
    "            block\n",
    "          else:\n",
    "            block\n",
    "'''\n",
    "a, b, c,d = 6, 6, 1,-1\n",
    "\n",
    "if (a < b) and (c >= d) :\n",
    "    print(\"if exucted\")\n",
    "else:\n",
    "    print(\"else block executed\")"
   ]
  },
  {
   "cell_type": "code",
   "execution_count": 98,
   "metadata": {},
   "outputs": [
    {
     "name": "stdout",
     "output_type": "stream",
     "text": [
      "else exccuted\n"
     ]
    }
   ],
   "source": [
    "if not (False and True) or (False and True):\n",
    "    print(\"if executed\")\n",
    "else:\n",
    "    print(\"else exccuted\")"
   ]
  },
  {
   "cell_type": "markdown",
   "metadata": {},
   "source": [
    "- switch"
   ]
  },
  {
   "cell_type": "markdown",
   "metadata": {},
   "source": [
    "syntax of switch/\n",
    "match term:\n",
    "    case pattern-1:\n",
    "         action-1\n",
    "    case pattern-2:\n",
    "         action-2\n",
    "    case pattern-3:\n",
    "         action-3\n",
    "    case _:\n",
    "        action-default"
   ]
  },
  {
   "cell_type": "code",
   "execution_count": 4,
   "metadata": {},
   "outputs": [
    {
     "name": "stdout",
     "output_type": "stream",
     "text": [
      "The language doesn't matter, what matters is solving problems.\n"
     ]
    }
   ],
   "source": [
    "lang = input(\"Enter language name\")\n",
    "\n",
    "match lang:\n",
    "    case \"JavaScript\":\n",
    "        print(\"You can become a web developer.\")\n",
    "\n",
    "    case \"Python\":\n",
    "        print(\"You can become a Data Scientist\")\n",
    "\n",
    "    case \"PHP\":\n",
    "        print(\"You can become a backend developer\")\n",
    "    \n",
    "    case \"Solidity\":\n",
    "        print(\"You can become a Blockchain developer\")\n",
    "\n",
    "    case \"Java\":\n",
    "        print(\"You can become a mobile app developer\")\n",
    "    case _:\n",
    "        print(\"The language doesn't matter, what matters is solving problems.\")\n",
    "        "
   ]
  },
  {
   "cell_type": "markdown",
   "metadata": {},
   "source": [
    "##### Loops"
   ]
  },
  {
   "cell_type": "markdown",
   "metadata": {},
   "source": [
    "- while"
   ]
  },
  {
   "cell_type": "markdown",
   "metadata": {},
   "source": [
    "synatx\n",
    "```\n",
    "while expression:\n",
    "    statement(s)\n",
    "```"
   ]
  },
  {
   "cell_type": "code",
   "execution_count": 2,
   "metadata": {},
   "outputs": [
    {
     "name": "stdout",
     "output_type": "stream",
     "text": [
      "Hello world\n",
      "Hello world\n",
      "Hello world\n"
     ]
    }
   ],
   "source": [
    "count = 0\n",
    "while (count < 3):   \n",
    "    count = count + 1\n",
    "    print(\"Hello world\")"
   ]
  },
  {
   "cell_type": "markdown",
   "metadata": {},
   "source": [
    "- for"
   ]
  },
  {
   "cell_type": "markdown",
   "metadata": {},
   "source": [
    "synatx\n",
    "```\n",
    "for iterator_var in sequence:\n",
    "    statements(s)\n",
    "```"
   ]
  },
  {
   "cell_type": "code",
   "execution_count": 3,
   "metadata": {},
   "outputs": [
    {
     "name": "stdout",
     "output_type": "stream",
     "text": [
      "0\n",
      "1\n",
      "2\n",
      "3\n"
     ]
    }
   ],
   "source": [
    "n = 4\n",
    "for i in range(0, n):\n",
    "    print(i)"
   ]
  },
  {
   "cell_type": "markdown",
   "metadata": {},
   "source": [
    "##### Functions"
   ]
  },
  {
   "cell_type": "markdown",
   "metadata": {},
   "source": [
    "- function call\n",
    "- function defination\n",
    "- parameters\n",
    "- python hints or parameter types\n",
    "- return statement\n"
   ]
  },
  {
   "cell_type": "code",
   "execution_count": 114,
   "metadata": {},
   "outputs": [
    {
     "name": "stdout",
     "output_type": "stream",
     "text": [
      "15\n"
     ]
    }
   ],
   "source": [
    "\"\"\"\n",
    "def <function_name>(<parameters>) -> <return type> : \n",
    "    body\n",
    "    return <object>\n",
    "\"\"\"\n",
    "\n",
    "\n",
    "def sumofarray(arr:list[int]) -> int:\n",
    "    return sum(arr)\n",
    "\n",
    "print(sumofarray([1,2,3,4,5]))"
   ]
  },
  {
   "cell_type": "markdown",
   "metadata": {},
   "source": []
  }
 ],
 "metadata": {
  "kernelspec": {
   "display_name": "Python 3.10.4 ('DSA_env_v3.10')",
   "language": "python",
   "name": "python3"
  },
  "language_info": {
   "codemirror_mode": {
    "name": "ipython",
    "version": 3
   },
   "file_extension": ".py",
   "mimetype": "text/x-python",
   "name": "python",
   "nbconvert_exporter": "python",
   "pygments_lexer": "ipython3",
   "version": "3.10.4"
  },
  "orig_nbformat": 4,
  "vscode": {
   "interpreter": {
    "hash": "45bfc46d18719ebe3597b6bd7eda10e7a034ae582a354c5a6e4d5bdd66dbbaab"
   }
  }
 },
 "nbformat": 4,
 "nbformat_minor": 2
}
